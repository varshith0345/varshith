{
 "cells": [
  {
   "cell_type": "code",
   "execution_count": 3,
   "id": "2af8705f-b3ca-45c8-9b7d-9aba9d6d6af8",
   "metadata": {},
   "outputs": [],
   "source": [
    "#Import pandas\n",
    "import pandas as pd"
   ]
  },
  {
   "cell_type": "code",
   "execution_count": 2,
   "id": "d8a4ed1a-70de-41b3-8293-9f083d77e010",
   "metadata": {},
   "outputs": [
    {
     "name": "stdout",
     "output_type": "stream",
     "text": [
      "0    29\n",
      "1    45\n",
      "2    67\n",
      "3    12\n",
      "4    34\n",
      "dtype: int64\n"
     ]
    }
   ],
   "source": [
    "d = [29,45,67,12,34]\n",
    "series = pd.Series(d)\n",
    "print(series)"
   ]
  },
  {
   "cell_type": "code",
   "execution_count": 7,
   "id": "63e15d2d-6132-4b37-b1e9-11483d4c7e4b",
   "metadata": {},
   "outputs": [
    {
     "name": "stdout",
     "output_type": "stream",
     "text": [
      "A    1\n",
      "B    2\n",
      "c    3\n",
      "d    4\n",
      "dtype: int64\n"
     ]
    }
   ],
   "source": [
    "data = [1,2,3,4]\n",
    "i = ['A','B','c','d']\n",
    "series = pd.Series(data,index=i)\n",
    "print(series)\n"
   ]
  },
  {
   "cell_type": "code",
   "execution_count": 9,
   "id": "7efb245e-05ba-4196-bb28-6dae63f38e27",
   "metadata": {},
   "outputs": [
    {
     "name": "stdout",
     "output_type": "stream",
     "text": [
      "A    1\n",
      "B    2\n",
      "c    3\n",
      "d    4\n",
      "dtype: int64\n"
     ]
    }
   ],
   "source": [
    "data = {'A':1,'B':2,'c':3,'d':4}\n",
    "series = pd.Series(data)\n",
    "print(series)\n"
   ]
  },
  {
   "cell_type": "code",
   "execution_count": 10,
   "id": "239c49b7-ce3c-4035-b739-ff0bed9b2ab1",
   "metadata": {},
   "outputs": [
    {
     "data": {
      "text/plain": [
       "A    1\n",
       "B    2\n",
       "c    5\n",
       "d    4\n",
       "dtype: int64"
      ]
     },
     "execution_count": 10,
     "metadata": {},
     "output_type": "execute_result"
    }
   ],
   "source": [
    "series.replace(3,5)"
   ]
  },
  {
   "cell_type": "code",
   "execution_count": 11,
   "id": "3a9efe78-6896-42e1-bb6f-b8efcc3d790c",
   "metadata": {},
   "outputs": [
    {
     "name": "stdout",
     "output_type": "stream",
     "text": [
      "A    1\n",
      "B    2\n",
      "c    3\n",
      "d    4\n",
      "dtype: int32\n"
     ]
    }
   ],
   "source": [
    "import numpy as np\n",
    "data = np.array ([1,2,3,4])\n",
    "i = ['A','B','c','d']\n",
    "series = pd.Series(data,index=i)\n",
    "print(series)\n"
   ]
  },
  {
   "cell_type": "code",
   "execution_count": 13,
   "id": "1af136ca-ce17-4a2e-8536-c3585c9460b0",
   "metadata": {},
   "outputs": [
    {
     "name": "stdout",
     "output_type": "stream",
     "text": [
      "      name  age  country\n",
      "0  sahasra   20    india\n",
      "1       sa   40   africa\n",
      "2      uuu   50  america\n"
     ]
    }
   ],
   "source": [
    "data = {'name':['sahasra','sa','uuu'],'age':[20,40,50],'country':['india','africa','america']}\n",
    "df = pd.DataFrame(data)\n",
    "print(df)"
   ]
  },
  {
   "cell_type": "code",
   "execution_count": 16,
   "id": "278f8817-1f31-429b-8a28-07d428ffd1a5",
   "metadata": {},
   "outputs": [
    {
     "name": "stdout",
     "output_type": "stream",
     "text": [
      "[[1 2 3 4]\n",
      " [4 5 6 7]\n",
      " [8 9 0 6]]\n",
      "   0  1  2  3\n",
      "0  1  2  3  4\n",
      "1  4  5  6  7\n",
      "2  8  9  0  6\n"
     ]
    }
   ],
   "source": [
    "import numpy as np\n",
    "data = np.array ([[1,2,3,4],[4,5,6,7],[8,9,0,6]])\n",
    "print(data)\n",
    "df = pd.DataFrame(data)\n",
    "print(df)\n"
   ]
  },
  {
   "cell_type": "code",
   "execution_count": null,
   "id": "77c27b89-711b-493f-bc43-97e076a7f2f3",
   "metadata": {},
   "outputs": [],
   "source": []
  }
 ],
 "metadata": {
  "kernelspec": {
   "display_name": "Python 3 (ipykernel)",
   "language": "python",
   "name": "python3"
  },
  "language_info": {
   "codemirror_mode": {
    "name": "ipython",
    "version": 3
   },
   "file_extension": ".py",
   "mimetype": "text/x-python",
   "name": "python",
   "nbconvert_exporter": "python",
   "pygments_lexer": "ipython3",
   "version": "3.12.4"
  }
 },
 "nbformat": 4,
 "nbformat_minor": 5
}
