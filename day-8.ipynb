{
 "cells": [
  {
   "cell_type": "code",
   "execution_count": null,
   "id": "7bf967ab-81be-42cd-b651-0ad48d5dfaac",
   "metadata": {},
   "outputs": [],
   "source": []
  }
 ],
 "metadata": {
  "kernelspec": {
   "display_name": "",
   "name": ""
  },
  "language_info": {
   "name": ""
  }
 },
 "nbformat": 4,
 "nbformat_minor": 5
}
