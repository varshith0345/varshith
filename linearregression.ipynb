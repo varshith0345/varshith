{
 "cells": [
  {
   "cell_type": "code",
   "execution_count": 3,
   "id": "8d950f81-9413-4d15-ad46-e805c73b0c08",
   "metadata": {},
   "outputs": [],
   "source": [
    "import pandas as pd\n",
    "import numpy as np\n"
   ]
  },
  {
   "cell_type": "code",
   "execution_count": 7,
   "id": "f82a73d3-4f83-48d9-8930-acbbf06c667a",
   "metadata": {},
   "outputs": [
    {
     "name": "stdout",
     "output_type": "stream",
     "text": [
      "                         Newspaper     daily    sunday\n",
      "0                    Baltimore Sun   391.952   488.506\n",
      "1                     Boston Globe   516.981   798.298\n",
      "2                    Boston Herald   355.628   235.084\n",
      "3               Charlotte Observer   238.555   299.451\n",
      "4                Chicago Sun Times   537.780   559.093\n",
      "5                  Chicago Tribune   733.775  1133.249\n",
      "6              Cincinnati Enquirer   198.832   348.744\n",
      "7                      Denver Post   252.624   417.779\n",
      "8              Des Moines Register   206.204   344.522\n",
      "9                 Hartford Courant   231.177   323.084\n",
      "10               Houston Chronicle   449.755   620.752\n",
      "11                Kansas City Star   288.571   423.305\n",
      "12         Los Angeles Daily  News   185.736   202.614\n",
      "13               Los Angeles Times  1164.388  1531.527\n",
      "14                    Miami Herald   444.581   553.479\n",
      "15        Minneapolis Star Tribune   412.871   685.975\n",
      "16      New Orleans Times-Picayune   272.280   324.241\n",
      "17             New York Daily News   781.796   983.240\n",
      "18                  New York Times  1209.225  1762.015\n",
      "19                         Newsday   825.512   960.308\n",
      "20              Omaha World Herald   223.748   284.611\n",
      "21          Orange County Register   354.843   407.760\n",
      "22           Philadelphia Inquirer   515.523   982.663\n",
      "23                Pittsburgh Press   220.465   557.000\n",
      "24              Portland Oregonian   337.672   440.923\n",
      "25     Providence Journal-Bulletin   197.120   268.060\n",
      "26  Rochester Democrat & Chronicle   133.239   262.048\n",
      "27             Rocky Mountain News   374.009   432.502\n",
      "28                  Sacramento Bee   273.844   338.355\n",
      "29         San Francisco Chronicle   570.364   704.322\n",
      "30         St. Louis Post-Dispatch   391.286   585.681\n",
      "31          St. Paul Pioneer Press   201.860   267.781\n",
      "32                   Tampa Tribune   321.626   408.343\n",
      "33                 Washington Post   838.902  1165.567\n"
     ]
    }
   ],
   "source": [
    "data = pd.read_csv(\"NewspaperData.csv\")\n",
    "print(data)"
   ]
  },
  {
   "cell_type": "code",
   "execution_count": null,
   "id": "3e638ddb-b3d6-40ff-8cf8-88e145375024",
   "metadata": {},
   "outputs": [],
   "source": []
  }
 ],
 "metadata": {
  "kernelspec": {
   "display_name": "Python [conda env:base] *",
   "language": "python",
   "name": "conda-base-py"
  },
  "language_info": {
   "codemirror_mode": {
    "name": "ipython",
    "version": 3
   },
   "file_extension": ".py",
   "mimetype": "text/x-python",
   "name": "python",
   "nbconvert_exporter": "python",
   "pygments_lexer": "ipython3",
   "version": "3.12.7"
  }
 },
 "nbformat": 4,
 "nbformat_minor": 5
}
