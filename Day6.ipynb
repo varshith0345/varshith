{
 "cells": [
  {
   "cell_type": "code",
   "execution_count": null,
   "id": "69c30dff-d806-45a7-9b51-dce16eea8639",
   "metadata": {},
   "outputs": [],
   "source": []
  }
 ],
 "metadata": {
  "kernelspec": {
   "display_name": "",
   "name": ""
  },
  "language_info": {
   "name": ""
  }
 },
 "nbformat": 4,
 "nbformat_minor": 5
}
