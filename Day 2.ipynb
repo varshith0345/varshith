{
 "cells": [
  {
   "cell_type": "code",
   "execution_count": 1,
   "id": "d01ae1db",
   "metadata": {},
   "outputs": [
    {
     "name": "stdout",
     "output_type": "stream",
     "text": [
      "List: [9, 18, 90, 5, 40, 500]\n",
      "Access element at index 5: 500\n",
      "Slice elements from index 1 to 3: [18, 90, 5]\n",
      "\n",
      "Tuple: ('NTR', 'Allu Arjun', 'Ram Charan', 'Vijay', 'Karthi')\n",
      "Access element at index 0: NTR\n",
      "Slice elements from index 0 to 4: ('NTR', 'Allu Arjun', 'Ram Charan', 'Vijay', 'Karthi')\n",
      "\n",
      "Dictionary: {'a': 1, 'b': 2, 'c': 3, 'd': 4, 'e': 5}\n",
      "Access value for key 'c': 3\n",
      "Access value for key 'e': 5\n"
     ]
    }
   ],
   "source": [
    "# List\n",
    "list1 = [9, 18, 90, 5, 40, 500]\n",
    "print(\"List:\", list1)\n",
    "print(\"Access element at index 5:\", list1[5])\n",
    "print(\"Slice elements from index 1 to 3:\", list1[1:4])\n",
    "\n",
    "# Tuple\n",
    "tuple1 = ('NTR', 'Allu Arjun', 'Ram Charan', 'Vijay', 'Karthi')\n",
    "print(\"\\nTuple:\", tuple1)\n",
    "print(\"Access element at index 0:\", tuple1[0])\n",
    "print(\"Slice elements from index 0 to 4:\", tuple1[0:5])\n",
    "\n",
    "# Dictionary\n",
    "dict1 = {'a': 1, 'b': 2, 'c': 3, 'd': 4, 'e': 5}\n",
    "print(\"\\nDictionary:\", dict1)\n",
    "print(\"Access value for key 'c':\", dict1['c'])\n",
    "print(\"Access value for key 'e':\", dict1['e'])\n"
   ]
  },
  {
   "cell_type": "code",
   "execution_count": null,
   "id": "34529b1b",
   "metadata": {},
   "outputs": [],
   "source": []
  }
 ],
 "metadata": {
  "kernelspec": {
   "display_name": "Python 3 (ipykernel)",
   "language": "python",
   "name": "python3"
  },
  "language_info": {
   "codemirror_mode": {
    "name": "ipython",
    "version": 3
   },
   "file_extension": ".py",
   "mimetype": "text/x-python",
   "name": "python",
   "nbconvert_exporter": "python",
   "pygments_lexer": "ipython3",
   "version": "3.11.5"
  }
 },
 "nbformat": 4,
 "nbformat_minor": 5
}
