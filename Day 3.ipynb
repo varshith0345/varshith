{
 "cells": [
  {
   "cell_type": "code",
   "execution_count": 1,
   "id": "7001423d",
   "metadata": {},
   "outputs": [
    {
     "name": "stdout",
     "output_type": "stream",
     "text": [
      "Enter marks of subject-01 : 98\n",
      "Enter marks of subject-02 : 96\n",
      "Enter marks of subject-03 : 97\n",
      "Grade: A\n"
     ]
    }
   ],
   "source": [
    "sub1 = int(input(\"Enter marks of subject-01 : \" ))\n",
    "sub2 = int(input(\"Enter marks of subject-02 : \" ))\n",
    "sub3 = int(input(\"Enter marks of subject-03 : \" ))\n",
    "avg = (sub1 + sub2 + sub3)/3\n",
    "if avg >= 90:\n",
    "    print(\"Grade: A\")\n",
    "elif 80 <= avg < 90:  \n",
    "    print(\"Grade: B\")\n",
    "elif 70 <= avg < 80:  \n",
    "    print(\"Grade: C\")\n",
    "else :\n",
    "    print(\"Grade : Fail\")"
   ]
  },
  {
   "cell_type": "code",
   "execution_count": null,
   "id": "9f4ecd38",
   "metadata": {},
   "outputs": [],
   "source": []
  }
 ],
 "metadata": {
  "kernelspec": {
   "display_name": "Python 3 (ipykernel)",
   "language": "python",
   "name": "python3"
  },
  "language_info": {
   "codemirror_mode": {
    "name": "ipython",
    "version": 3
   },
   "file_extension": ".py",
   "mimetype": "text/x-python",
   "name": "python",
   "nbconvert_exporter": "python",
   "pygments_lexer": "ipython3",
   "version": "3.11.5"
  }
 },
 "nbformat": 4,
 "nbformat_minor": 5
}
