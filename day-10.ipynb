{
 "cells": [
  {
   "cell_type": "code",
   "execution_count": 1,
   "id": "f92d418d-b15b-4c52-95c2-814ac5e477a9",
   "metadata": {},
   "outputs": [
    {
     "name": "stdout",
     "output_type": "stream",
     "text": [
      "Rows where Transaction_Amount is greater than 2000:\n",
      "          Date       Account_Type    Branch Transaction_Type  \\\n",
      "2   2023-01-10            Current    Uptown     Loan Payment   \n",
      "4   2023-01-14  Recurring Deposit  Suburban     Loan Payment   \n",
      "5   2023-01-06            Current  Suburban   Service Charge   \n",
      "7   2023-01-09            Current   Central     Loan Payment   \n",
      "8   2023-01-20  Recurring Deposit  Downtown   Service Charge   \n",
      "13  2023-01-05  Recurring Deposit   Central     Loan Payment   \n",
      "14  2023-01-01      Fixed Deposit  Downtown       Withdrawal   \n",
      "15  2023-01-03            Savings  Suburban   Service Charge   \n",
      "16  2023-01-02      Fixed Deposit   Central          Deposit   \n",
      "17  2023-01-07            Current   Central     Loan Payment   \n",
      "19  2023-01-17            Savings   Central          Deposit   \n",
      "\n",
      "    Transaction_Amount  Account_Balance  \n",
      "2              3363.85         12428.67  \n",
      "4              2788.57          4779.04  \n",
      "5              4584.05          7635.47  \n",
      "7              2346.72         10708.85  \n",
      "8              3899.98         12646.56  \n",
      "13             4683.64          6762.43  \n",
      "14             4136.54          8175.08  \n",
      "15             3350.32         12836.51  \n",
      "16             4421.57          8330.40  \n",
      "17             4116.52          9785.64  \n",
      "19             4516.52          8789.19  \n",
      "\n",
      "Rows where Transaction_Type is 'Loan Payment' and Account_Balance is greater than 5000:\n",
      "          Date       Account_Type   Branch Transaction_Type  \\\n",
      "0   2023-01-19      Fixed Deposit  Central     Loan Payment   \n",
      "2   2023-01-10            Current   Uptown     Loan Payment   \n",
      "3   2023-01-18            Savings   Uptown     Loan Payment   \n",
      "7   2023-01-09            Current  Central     Loan Payment   \n",
      "13  2023-01-05  Recurring Deposit  Central     Loan Payment   \n",
      "17  2023-01-07            Current  Central     Loan Payment   \n",
      "\n",
      "    Transaction_Amount  Account_Balance  \n",
      "0               985.51          6839.59  \n",
      "2              3363.85         12428.67  \n",
      "3              1914.60          5776.63  \n",
      "7              2346.72         10708.85  \n",
      "13             4683.64          6762.43  \n",
      "17             4116.52          9785.64  \n",
      "\n",
      "Transactions made in the 'Uptown' branch:\n",
      "          Date   Account_Type  Branch Transaction_Type  Transaction_Amount  \\\n",
      "1   2023-01-16        Current  Uptown       Withdrawal              641.43   \n",
      "2   2023-01-10        Current  Uptown     Loan Payment             3363.85   \n",
      "3   2023-01-18        Savings  Uptown     Loan Payment             1914.60   \n",
      "12  2023-01-15  Fixed Deposit  Uptown   Service Charge             1225.50   \n",
      "\n",
      "    Account_Balance  \n",
      "1           8908.39  \n",
      "2          12428.67  \n",
      "3           5776.63  \n",
      "12          4224.47  \n"
     ]
    }
   ],
   "source": [
    "#Assignment-1\n",
    "import pandas as pd\n",
    "\n",
    "# Load the banking_data.csv file\n",
    "df = pd.read_csv(\"banking_data.csv\")\n",
    "\n",
    "\n",
    "filtered_transaction_amount = df[df[\"Transaction_Amount\"] > 2000]\n",
    "print(\"Rows where Transaction_Amount is greater than 2000:\")\n",
    "print(filtered_transaction_amount)\n",
    "\n",
    "loan_payment_high_balance = df[(df[\"Transaction_Type\"] == \"Loan Payment\") & (df[\"Account_Balance\"] > 5000)]\n",
    "print(\"\\nRows where Transaction_Type is 'Loan Payment' and Account_Balance is greater than 5000:\")\n",
    "print(loan_payment_high_balance)\n",
    "\n",
    "\n",
    "uptown_transactions = df[df[\"Branch\"] == \"Uptown\"]\n",
    "print(\"\\nTransactions made in the 'Uptown' branch:\")\n",
    "print(uptown_transactions)\n"
   ]
  },
  {
   "cell_type": "code",
   "execution_count": null,
   "id": "dc8e0b4f-bc4f-4607-a771-75d99c424177",
   "metadata": {},
   "outputs": [],
   "source": [
    "#Assignment-2\n",
    "# Add a new column called Transaction_Fee, calculated as 2% of Transaction_Amount\n",
    "df[\"Transaction_Fee\"] = df[\"Transaction_Amount\"] * 0.02\n",
    "print(\"\\nDataFrame after adding the 'Transaction_Fee' column:\")\n",
    "print(df.head())\n",
    "\n",
    "# Create a new column Balance_Status\n",
    "# If Account_Balance > 5000, label it as \"High Balance\", otherwise \"Low Balance\"\n",
    "df[\"Balance_Status\"] = df[\"Account_Balance\"].apply(lambda x: \"High Balance\" if x > 5000 else \"Low Balance\")\n",
    "print(\"\\nDataFrame after adding the 'Balance_Status' column:\")\n",
    "print(df.head())\n"
   ]
  }
 ],
 "metadata": {
  "kernelspec": {
   "display_name": "Python [conda env:base] *",
   "language": "python",
   "name": "conda-base-py"
  },
  "language_info": {
   "codemirror_mode": {
    "name": "ipython",
    "version": 3
   },
   "file_extension": ".py",
   "mimetype": "text/x-python",
   "name": "python",
   "nbconvert_exporter": "python",
   "pygments_lexer": "ipython3",
   "version": "3.12.7"
  }
 },
 "nbformat": 4,
 "nbformat_minor": 5
}
