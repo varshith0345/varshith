{
 "cells": [
  {
   "cell_type": "code",
   "execution_count": 1,
   "id": "fd7eaec8",
   "metadata": {},
   "outputs": [
    {
     "name": "stdout",
     "output_type": "stream",
     "text": [
      "Integer Variable:  10 , Type:  <class 'int'>\n",
      "Float Variable:  3.14 , Type:  <class 'float'>\n",
      "String Variable:  Hello, World! , Type:  <class 'str'>\n",
      "Boolean Variable:  True , Type:  <class 'bool'>\n"
     ]
    }
   ],
   "source": [
    "integer_var = 10\n",
    "float_var = 3.14\n",
    "string_var = \"Hello, World!\"\n",
    "boolean_var = True\n",
    "\n",
    "print(\"Integer Variable: \", integer_var, \", Type: \", type(integer_var))\n",
    "print(\"Float Variable: \", float_var, \", Type: \", type(float_var))\n",
    "print(\"String Variable: \", string_var, \", Type: \", type(string_var))\n",
    "print(\"Boolean Variable: \", boolean_var, \", Type: \", type(boolean_var))\n"
   ]
  },
  {
   "cell_type": "code",
   "execution_count": null,
   "id": "09723076",
   "metadata": {},
   "outputs": [],
   "source": []
  }
 ],
 "metadata": {
  "kernelspec": {
   "display_name": "Python 3 (ipykernel)",
   "language": "python",
   "name": "python3"
  },
  "language_info": {
   "codemirror_mode": {
    "name": "ipython",
    "version": 3
   },
   "file_extension": ".py",
   "mimetype": "text/x-python",
   "name": "python",
   "nbconvert_exporter": "python",
   "pygments_lexer": "ipython3",
   "version": "3.11.5"
  }
 },
 "nbformat": 4,
 "nbformat_minor": 5
}
