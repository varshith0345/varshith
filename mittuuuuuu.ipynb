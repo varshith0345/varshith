{
 "cells": [
  {
   "cell_type": "code",
   "execution_count": 1,
   "id": "f816e284-de9e-4231-aaa7-6db09bebe7ad",
   "metadata": {},
   "outputs": [
    {
     "name": "stdout",
     "output_type": "stream",
     "text": [
      "even\n"
     ]
    }
   ],
   "source": [
    "num = 6\n",
    "if num %2 == 0:\n",
    "    print(\"even\")\n",
    "else:\n",
    "    print(\"odd\")\n",
    "    "
   ]
  },
  {
   "cell_type": "code",
   "execution_count": 3,
   "id": "6d42eb25-929d-49d9-9f87-b39186098567",
   "metadata": {},
   "outputs": [
    {
     "name": "stdout",
     "output_type": "stream",
     "text": [
      "even\n"
     ]
    }
   ],
   "source": [
    "print(\"even\") if num%2 == 0 else print(\"odd\")"
   ]
  },
  {
   "cell_type": "code",
   "execution_count": 13,
   "id": "0e5fb3ac-7d8f-402f-a2fd-a1331169c8da",
   "metadata": {},
   "outputs": [
    {
     "name": "stdout",
     "output_type": "stream",
     "text": [
      "Positive\n"
     ]
    }
   ],
   "source": [
    "num = 6 \n",
    "result = \"Positive\" if num > 0 else (\"Negative\" if num < 0 else \"Zero\")\n",
    "print(result)                                     "
   ]
  },
  {
   "cell_type": "code",
   "execution_count": 17,
   "id": "e4d8fad8-6241-4901-9ca0-1484944af94c",
   "metadata": {},
   "outputs": [
    {
     "data": {
      "text/plain": [
       "[2, 18, 4, 20, 112, 178, 0, -8]"
      ]
     },
     "execution_count": 17,
     "metadata": {},
     "output_type": "execute_result"
    }
   ],
   "source": [
    "#list comprehension\n",
    "L = [1,9,2,10,56,89,0,-4]\n",
    "[2*x for x in L]"
   ]
  },
  {
   "cell_type": "code",
   "execution_count": 19,
   "id": "3bf4f596-fbea-4213-b80d-1bbeebe772a0",
   "metadata": {},
   "outputs": [
    {
     "data": {
      "text/plain": [
       "[2, 10, 56, 0, -4]"
      ]
     },
     "execution_count": 19,
     "metadata": {},
     "output_type": "execute_result"
    }
   ],
   "source": [
    "L = [1,9,2,10,56,89,0,-4]\n",
    "[x for x in L if x%2 == 0]"
   ]
  },
  {
   "cell_type": "code",
   "execution_count": 21,
   "id": "b5349315-420d-4f3c-9431-3b311b2e340b",
   "metadata": {},
   "outputs": [
    {
     "data": {
      "text/plain": [
       "[1, 9, 89]"
      ]
     },
     "execution_count": 21,
     "metadata": {},
     "output_type": "execute_result"
    }
   ],
   "source": [
    "L = [1,9,2,10,56,89,0,-4]\n",
    "[x for x in L if x%2 != 0]\n"
   ]
  },
  {
   "cell_type": "code",
   "execution_count": 27,
   "id": "5ee8f055-d325-4882-899c-4f9d0b7e5183",
   "metadata": {},
   "outputs": [
    {
     "data": {
      "text/plain": [
       "20.375"
      ]
     },
     "execution_count": 27,
     "metadata": {},
     "output_type": "execute_result"
    }
   ],
   "source": [
    "L = [1,9,2,10,56,89,0,-4]\n",
    "sum([ x for x in L])/len(L)\n"
   ]
  },
  {
   "cell_type": "code",
   "execution_count": 31,
   "id": "e0eed2e3-2f74-44e0-bc85-f02a7c0aa07f",
   "metadata": {},
   "outputs": [
    {
     "data": {
      "text/plain": [
       "{'mittu': 84.75, 'indhu': 71.5}"
      ]
     },
     "execution_count": 31,
     "metadata": {},
     "output_type": "execute_result"
    }
   ],
   "source": [
    "#dic\n",
    "d1 = {'mittu':[70,71,98,100], 'indhu':[56,98,67,65]}\n",
    "{k:sum(v)/len(v) for k,v in d1.items()}\n"
   ]
  },
  {
   "cell_type": "code",
   "execution_count": null,
   "id": "5fd3c905-19b3-4743-bf71-b104cac9ace0",
   "metadata": {},
   "outputs": [],
   "source": []
  }
 ],
 "metadata": {
  "kernelspec": {
   "display_name": "Python 3 (ipykernel)",
   "language": "python",
   "name": "python3"
  },
  "language_info": {
   "codemirror_mode": {
    "name": "ipython",
    "version": 3
   },
   "file_extension": ".py",
   "mimetype": "text/x-python",
   "name": "python",
   "nbconvert_exporter": "python",
   "pygments_lexer": "ipython3",
   "version": "3.12.7"
  }
 },
 "nbformat": 4,
 "nbformat_minor": 5
}
