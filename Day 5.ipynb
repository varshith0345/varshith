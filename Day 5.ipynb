{
 "cells": [
  {
   "cell_type": "code",
   "execution_count": 1,
   "id": "373857a6",
   "metadata": {},
   "outputs": [
    {
     "name": "stdout",
     "output_type": "stream",
     "text": [
      "Enter a positive integer: 7\n",
      "Numbers from 1 to 7 :\n",
      "1\n",
      "2\n",
      "3\n",
      "4\n",
      "5\n",
      "6\n",
      "7\n",
      "Sum of numbers from 1 to 7 : 28\n"
     ]
    }
   ],
   "source": [
    "# # 1)Write a Python program that performs the following tasks:\n",
    "# \n",
    "# 1. Ask the user to enter a positive integer `n`.\n",
    "# 2. Use a `for` loop to print all numbers from `1` to `n` on separate lines.\n",
    "# 3. Use a `while` loop to calculate the sum of all numbers from `1` to `n` and print the result.\n",
    "\n",
    "\n",
    "\n",
    "n = int(input(\"Enter a positive integer: \"))\n",
    "print(\"Numbers from 1 to\", n, \":\")\n",
    "for i in range(1, n + 1):\n",
    "    print(i)\n",
    "sum_num, i = 0, 1\n",
    "while i <= n:\n",
    "    sum_num += i\n",
    "    i += 1\n",
    "print(\"Sum of numbers from 1 to\", n, \":\", sum_num)"
   ]
  },
  {
   "cell_type": "code",
   "execution_count": 2,
   "id": "da2ac41f",
   "metadata": {},
   "outputs": [
    {
     "name": "stdout",
     "output_type": "stream",
     "text": [
      "Enter a positive integer : 7\n",
      "The square of 7 is 49\n"
     ]
    }
   ],
   "source": [
    "# # 2)Write a Python program that includes a user-defined function to perform the following tasks:\n",
    "# 1. Define a function named calculate_square that takes a single argument `n` and returns the square of `n`.\n",
    "# 2. In the main program, ask the user to input a positive integer.\n",
    "# 3. Call the calculate_square function with the user-provided number and display the result.\n",
    "\n",
    "\n",
    "\n",
    "def calculate_square (n):\n",
    "        return n**2\n",
    "n = int(input(\"Enter a positive integer : \"))\n",
    "res = calculate_square(n)\n",
    "print(f\"The square of {n} is {res}\")"
   ]
  },
  {
   "cell_type": "code",
   "execution_count": null,
   "id": "d2e1bf54",
   "metadata": {},
   "outputs": [],
   "source": []
  }
 ],
 "metadata": {
  "kernelspec": {
   "display_name": "Python 3 (ipykernel)",
   "language": "python",
   "name": "python3"
  },
  "language_info": {
   "codemirror_mode": {
    "name": "ipython",
    "version": 3
   },
   "file_extension": ".py",
   "mimetype": "text/x-python",
   "name": "python",
   "nbconvert_exporter": "python",
   "pygments_lexer": "ipython3",
   "version": "3.11.5"
  }
 },
 "nbformat": 4,
 "nbformat_minor": 5
}
